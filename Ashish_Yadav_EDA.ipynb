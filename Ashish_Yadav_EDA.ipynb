{
  "nbformat": 4,
  "nbformat_minor": 0,
  "metadata": {
    "colab": {
      "provenance": []
    },
    "kernelspec": {
      "name": "python3",
      "display_name": "Python 3"
    },
    "language_info": {
      "name": "python"
    }
  },
  "cells": [
    {
      "cell_type": "code",
      "execution_count": 65,
      "metadata": {
        "id": "C-8zPHEVqzd_"
      },
      "outputs": [],
      "source": [
        "import numpy as np\n",
        "import pandas as pd\n",
        "import matplotlib.pyplot as plt\n",
        "import seaborn as sns"
      ]
    },
    {
      "cell_type": "code",
      "source": [
        "Customers=pd.read_csv('/content/Customers.csv')\n",
        "Products=pd.read_csv('/content/Products.csv')\n",
        "Transactions=pd.read_csv('/content/Transactions.csv')"
      ],
      "metadata": {
        "id": "h3UQciOqr1ef"
      },
      "execution_count": 66,
      "outputs": []
    },
    {
      "cell_type": "code",
      "source": [
        "print(\"Customers Dataset:\")\n",
        "print(Customers.head())\n",
        "\n",
        "print(\"\\nProducts Dataset:\")\n",
        "print(Products.head())\n",
        "\n",
        "print(\"\\nTransactions Dataset:\")\n",
        "print(Transactions.head())"
      ],
      "metadata": {
        "colab": {
          "base_uri": "https://localhost:8080/"
        },
        "id": "E19fPBejsE5K",
        "outputId": "597a770f-73eb-41db-de79-f6c0fdf909f4"
      },
      "execution_count": 67,
      "outputs": [
        {
          "output_type": "stream",
          "name": "stdout",
          "text": [
            "Customers Dataset:\n",
            "  CustomerID        CustomerName         Region  SignupDate\n",
            "0      C0001    Lawrence Carroll  South America  2022-07-10\n",
            "1      C0002      Elizabeth Lutz           Asia  2022-02-13\n",
            "2      C0003      Michael Rivera  South America  2024-03-07\n",
            "3      C0004  Kathleen Rodriguez  South America  2022-10-09\n",
            "4      C0005         Laura Weber           Asia  2022-08-15\n",
            "\n",
            "Products Dataset:\n",
            "  ProductID              ProductName     Category   Price\n",
            "0      P001     ActiveWear Biography        Books  169.30\n",
            "1      P002    ActiveWear Smartwatch  Electronics  346.30\n",
            "2      P003  ComfortLiving Biography        Books   44.12\n",
            "3      P004            BookWorld Rug   Home Decor   95.69\n",
            "4      P005          TechPro T-Shirt     Clothing  429.31\n",
            "\n",
            "Transactions Dataset:\n",
            "  TransactionID CustomerID ProductID      TransactionDate  Quantity  \\\n",
            "0        T00001      C0199      P067  2024-08-25 12:38:23         1   \n",
            "1        T00112      C0146      P067  2024-05-27 22:23:54         1   \n",
            "2        T00166      C0127      P067  2024-04-25 07:38:55         1   \n",
            "3        T00272      C0087      P067  2024-03-26 22:55:37         2   \n",
            "4        T00363      C0070      P067  2024-03-21 15:10:10         3   \n",
            "\n",
            "   TotalValue   Price  \n",
            "0      300.68  300.68  \n",
            "1      300.68  300.68  \n",
            "2      300.68  300.68  \n",
            "3      601.36  300.68  \n",
            "4      902.04  300.68  \n"
          ]
        }
      ]
    },
    {
      "cell_type": "code",
      "source": [
        "print(\"Customers:\")\n",
        "print(Customers.isnull().sum())\n",
        "\n",
        "print(\"\\nProducts:\")\n",
        "print(Products.isnull().sum())\n",
        "\n",
        "print(\"\\nTransactions:\")\n",
        "print(Transactions.isnull().sum())"
      ],
      "metadata": {
        "colab": {
          "base_uri": "https://localhost:8080/"
        },
        "id": "ufGBePCBsGVy",
        "outputId": "a2284569-9ecb-4fa8-ea16-579cff19156b"
      },
      "execution_count": 68,
      "outputs": [
        {
          "output_type": "stream",
          "name": "stdout",
          "text": [
            "Customers:\n",
            "CustomerID      0\n",
            "CustomerName    0\n",
            "Region          0\n",
            "SignupDate      0\n",
            "dtype: int64\n",
            "\n",
            "Products:\n",
            "ProductID      0\n",
            "ProductName    0\n",
            "Category       0\n",
            "Price          0\n",
            "dtype: int64\n",
            "\n",
            "Transactions:\n",
            "TransactionID      0\n",
            "CustomerID         0\n",
            "ProductID          0\n",
            "TransactionDate    0\n",
            "Quantity           0\n",
            "TotalValue         0\n",
            "Price              0\n",
            "dtype: int64\n"
          ]
        }
      ]
    },
    {
      "cell_type": "code",
      "source": [
        "df = Transactions.merge(Customers, on=\"CustomerID\", how=\"left\").merge(Products, on=\"ProductID\", how=\"left\")"
      ],
      "metadata": {
        "id": "kmn7EL89tkR6"
      },
      "execution_count": 69,
      "outputs": []
    },
    {
      "cell_type": "code",
      "source": [
        "df.sample(5)"
      ],
      "metadata": {
        "colab": {
          "base_uri": "https://localhost:8080/",
          "height": 330
        },
        "id": "ksLGsP66u0th",
        "outputId": "6add3434-5216-4f11-b9ec-f39119c13552"
      },
      "execution_count": 72,
      "outputs": [
        {
          "output_type": "execute_result",
          "data": {
            "text/plain": [
              "    TransactionID CustomerID ProductID      TransactionDate  Quantity  \\\n",
              "63         T00953      C0056      P087  2024-03-07 21:09:48         2   \n",
              "903        T00707      C0170      P094  2024-05-27 15:48:49         3   \n",
              "481        T00792      C0105      P031  2024-01-11 06:02:11         1   \n",
              "638        T00333      C0101      P015  2024-12-28 11:00:00         3   \n",
              "831        T00933      C0058      P020  2024-02-01 14:24:48         1   \n",
              "\n",
              "     TotalValue  Price_x     CustomerName         Region  SignupDate  \\\n",
              "63       580.34   290.17  Erika Fernandez           Asia  2024-04-12   \n",
              "903     1342.02   447.34     Logan Harris         Europe  2023-09-13   \n",
              "481      196.40   196.40     Ryan Hampton         Europe  2024-11-11   \n",
              "638      476.79   158.93   Kelsey Roberts           Asia  2023-09-30   \n",
              "831      396.34   396.34   Zachary Turner  North America  2024-01-28   \n",
              "\n",
              "                ProductName     Category  Price_y  \n",
              "63    TechPro Running Shoes     Clothing   290.17  \n",
              "903  HomeSense Cookware Set   Home Decor   447.34  \n",
              "481    SoundWave Headphones  Electronics   196.40  \n",
              "638    HomeSense Headphones  Electronics   158.93  \n",
              "831       ActiveWear Jacket     Clothing   396.34  "
            ],
            "text/html": [
              "\n",
              "  <div id=\"df-0c5a8335-4610-420d-856e-8456d11c0cc2\" class=\"colab-df-container\">\n",
              "    <div>\n",
              "<style scoped>\n",
              "    .dataframe tbody tr th:only-of-type {\n",
              "        vertical-align: middle;\n",
              "    }\n",
              "\n",
              "    .dataframe tbody tr th {\n",
              "        vertical-align: top;\n",
              "    }\n",
              "\n",
              "    .dataframe thead th {\n",
              "        text-align: right;\n",
              "    }\n",
              "</style>\n",
              "<table border=\"1\" class=\"dataframe\">\n",
              "  <thead>\n",
              "    <tr style=\"text-align: right;\">\n",
              "      <th></th>\n",
              "      <th>TransactionID</th>\n",
              "      <th>CustomerID</th>\n",
              "      <th>ProductID</th>\n",
              "      <th>TransactionDate</th>\n",
              "      <th>Quantity</th>\n",
              "      <th>TotalValue</th>\n",
              "      <th>Price_x</th>\n",
              "      <th>CustomerName</th>\n",
              "      <th>Region</th>\n",
              "      <th>SignupDate</th>\n",
              "      <th>ProductName</th>\n",
              "      <th>Category</th>\n",
              "      <th>Price_y</th>\n",
              "    </tr>\n",
              "  </thead>\n",
              "  <tbody>\n",
              "    <tr>\n",
              "      <th>63</th>\n",
              "      <td>T00953</td>\n",
              "      <td>C0056</td>\n",
              "      <td>P087</td>\n",
              "      <td>2024-03-07 21:09:48</td>\n",
              "      <td>2</td>\n",
              "      <td>580.34</td>\n",
              "      <td>290.17</td>\n",
              "      <td>Erika Fernandez</td>\n",
              "      <td>Asia</td>\n",
              "      <td>2024-04-12</td>\n",
              "      <td>TechPro Running Shoes</td>\n",
              "      <td>Clothing</td>\n",
              "      <td>290.17</td>\n",
              "    </tr>\n",
              "    <tr>\n",
              "      <th>903</th>\n",
              "      <td>T00707</td>\n",
              "      <td>C0170</td>\n",
              "      <td>P094</td>\n",
              "      <td>2024-05-27 15:48:49</td>\n",
              "      <td>3</td>\n",
              "      <td>1342.02</td>\n",
              "      <td>447.34</td>\n",
              "      <td>Logan Harris</td>\n",
              "      <td>Europe</td>\n",
              "      <td>2023-09-13</td>\n",
              "      <td>HomeSense Cookware Set</td>\n",
              "      <td>Home Decor</td>\n",
              "      <td>447.34</td>\n",
              "    </tr>\n",
              "    <tr>\n",
              "      <th>481</th>\n",
              "      <td>T00792</td>\n",
              "      <td>C0105</td>\n",
              "      <td>P031</td>\n",
              "      <td>2024-01-11 06:02:11</td>\n",
              "      <td>1</td>\n",
              "      <td>196.40</td>\n",
              "      <td>196.40</td>\n",
              "      <td>Ryan Hampton</td>\n",
              "      <td>Europe</td>\n",
              "      <td>2024-11-11</td>\n",
              "      <td>SoundWave Headphones</td>\n",
              "      <td>Electronics</td>\n",
              "      <td>196.40</td>\n",
              "    </tr>\n",
              "    <tr>\n",
              "      <th>638</th>\n",
              "      <td>T00333</td>\n",
              "      <td>C0101</td>\n",
              "      <td>P015</td>\n",
              "      <td>2024-12-28 11:00:00</td>\n",
              "      <td>3</td>\n",
              "      <td>476.79</td>\n",
              "      <td>158.93</td>\n",
              "      <td>Kelsey Roberts</td>\n",
              "      <td>Asia</td>\n",
              "      <td>2023-09-30</td>\n",
              "      <td>HomeSense Headphones</td>\n",
              "      <td>Electronics</td>\n",
              "      <td>158.93</td>\n",
              "    </tr>\n",
              "    <tr>\n",
              "      <th>831</th>\n",
              "      <td>T00933</td>\n",
              "      <td>C0058</td>\n",
              "      <td>P020</td>\n",
              "      <td>2024-02-01 14:24:48</td>\n",
              "      <td>1</td>\n",
              "      <td>396.34</td>\n",
              "      <td>396.34</td>\n",
              "      <td>Zachary Turner</td>\n",
              "      <td>North America</td>\n",
              "      <td>2024-01-28</td>\n",
              "      <td>ActiveWear Jacket</td>\n",
              "      <td>Clothing</td>\n",
              "      <td>396.34</td>\n",
              "    </tr>\n",
              "  </tbody>\n",
              "</table>\n",
              "</div>\n",
              "    <div class=\"colab-df-buttons\">\n",
              "\n",
              "  <div class=\"colab-df-container\">\n",
              "    <button class=\"colab-df-convert\" onclick=\"convertToInteractive('df-0c5a8335-4610-420d-856e-8456d11c0cc2')\"\n",
              "            title=\"Convert this dataframe to an interactive table.\"\n",
              "            style=\"display:none;\">\n",
              "\n",
              "  <svg xmlns=\"http://www.w3.org/2000/svg\" height=\"24px\" viewBox=\"0 -960 960 960\">\n",
              "    <path d=\"M120-120v-720h720v720H120Zm60-500h600v-160H180v160Zm220 220h160v-160H400v160Zm0 220h160v-160H400v160ZM180-400h160v-160H180v160Zm440 0h160v-160H620v160ZM180-180h160v-160H180v160Zm440 0h160v-160H620v160Z\"/>\n",
              "  </svg>\n",
              "    </button>\n",
              "\n",
              "  <style>\n",
              "    .colab-df-container {\n",
              "      display:flex;\n",
              "      gap: 12px;\n",
              "    }\n",
              "\n",
              "    .colab-df-convert {\n",
              "      background-color: #E8F0FE;\n",
              "      border: none;\n",
              "      border-radius: 50%;\n",
              "      cursor: pointer;\n",
              "      display: none;\n",
              "      fill: #1967D2;\n",
              "      height: 32px;\n",
              "      padding: 0 0 0 0;\n",
              "      width: 32px;\n",
              "    }\n",
              "\n",
              "    .colab-df-convert:hover {\n",
              "      background-color: #E2EBFA;\n",
              "      box-shadow: 0px 1px 2px rgba(60, 64, 67, 0.3), 0px 1px 3px 1px rgba(60, 64, 67, 0.15);\n",
              "      fill: #174EA6;\n",
              "    }\n",
              "\n",
              "    .colab-df-buttons div {\n",
              "      margin-bottom: 4px;\n",
              "    }\n",
              "\n",
              "    [theme=dark] .colab-df-convert {\n",
              "      background-color: #3B4455;\n",
              "      fill: #D2E3FC;\n",
              "    }\n",
              "\n",
              "    [theme=dark] .colab-df-convert:hover {\n",
              "      background-color: #434B5C;\n",
              "      box-shadow: 0px 1px 3px 1px rgba(0, 0, 0, 0.15);\n",
              "      filter: drop-shadow(0px 1px 2px rgba(0, 0, 0, 0.3));\n",
              "      fill: #FFFFFF;\n",
              "    }\n",
              "  </style>\n",
              "\n",
              "    <script>\n",
              "      const buttonEl =\n",
              "        document.querySelector('#df-0c5a8335-4610-420d-856e-8456d11c0cc2 button.colab-df-convert');\n",
              "      buttonEl.style.display =\n",
              "        google.colab.kernel.accessAllowed ? 'block' : 'none';\n",
              "\n",
              "      async function convertToInteractive(key) {\n",
              "        const element = document.querySelector('#df-0c5a8335-4610-420d-856e-8456d11c0cc2');\n",
              "        const dataTable =\n",
              "          await google.colab.kernel.invokeFunction('convertToInteractive',\n",
              "                                                    [key], {});\n",
              "        if (!dataTable) return;\n",
              "\n",
              "        const docLinkHtml = 'Like what you see? Visit the ' +\n",
              "          '<a target=\"_blank\" href=https://colab.research.google.com/notebooks/data_table.ipynb>data table notebook</a>'\n",
              "          + ' to learn more about interactive tables.';\n",
              "        element.innerHTML = '';\n",
              "        dataTable['output_type'] = 'display_data';\n",
              "        await google.colab.output.renderOutput(dataTable, element);\n",
              "        const docLink = document.createElement('div');\n",
              "        docLink.innerHTML = docLinkHtml;\n",
              "        element.appendChild(docLink);\n",
              "      }\n",
              "    </script>\n",
              "  </div>\n",
              "\n",
              "\n",
              "<div id=\"df-a82bb014-deb1-4dc1-982f-bb4b9e60b15d\">\n",
              "  <button class=\"colab-df-quickchart\" onclick=\"quickchart('df-a82bb014-deb1-4dc1-982f-bb4b9e60b15d')\"\n",
              "            title=\"Suggest charts\"\n",
              "            style=\"display:none;\">\n",
              "\n",
              "<svg xmlns=\"http://www.w3.org/2000/svg\" height=\"24px\"viewBox=\"0 0 24 24\"\n",
              "     width=\"24px\">\n",
              "    <g>\n",
              "        <path d=\"M19 3H5c-1.1 0-2 .9-2 2v14c0 1.1.9 2 2 2h14c1.1 0 2-.9 2-2V5c0-1.1-.9-2-2-2zM9 17H7v-7h2v7zm4 0h-2V7h2v10zm4 0h-2v-4h2v4z\"/>\n",
              "    </g>\n",
              "</svg>\n",
              "  </button>\n",
              "\n",
              "<style>\n",
              "  .colab-df-quickchart {\n",
              "      --bg-color: #E8F0FE;\n",
              "      --fill-color: #1967D2;\n",
              "      --hover-bg-color: #E2EBFA;\n",
              "      --hover-fill-color: #174EA6;\n",
              "      --disabled-fill-color: #AAA;\n",
              "      --disabled-bg-color: #DDD;\n",
              "  }\n",
              "\n",
              "  [theme=dark] .colab-df-quickchart {\n",
              "      --bg-color: #3B4455;\n",
              "      --fill-color: #D2E3FC;\n",
              "      --hover-bg-color: #434B5C;\n",
              "      --hover-fill-color: #FFFFFF;\n",
              "      --disabled-bg-color: #3B4455;\n",
              "      --disabled-fill-color: #666;\n",
              "  }\n",
              "\n",
              "  .colab-df-quickchart {\n",
              "    background-color: var(--bg-color);\n",
              "    border: none;\n",
              "    border-radius: 50%;\n",
              "    cursor: pointer;\n",
              "    display: none;\n",
              "    fill: var(--fill-color);\n",
              "    height: 32px;\n",
              "    padding: 0;\n",
              "    width: 32px;\n",
              "  }\n",
              "\n",
              "  .colab-df-quickchart:hover {\n",
              "    background-color: var(--hover-bg-color);\n",
              "    box-shadow: 0 1px 2px rgba(60, 64, 67, 0.3), 0 1px 3px 1px rgba(60, 64, 67, 0.15);\n",
              "    fill: var(--button-hover-fill-color);\n",
              "  }\n",
              "\n",
              "  .colab-df-quickchart-complete:disabled,\n",
              "  .colab-df-quickchart-complete:disabled:hover {\n",
              "    background-color: var(--disabled-bg-color);\n",
              "    fill: var(--disabled-fill-color);\n",
              "    box-shadow: none;\n",
              "  }\n",
              "\n",
              "  .colab-df-spinner {\n",
              "    border: 2px solid var(--fill-color);\n",
              "    border-color: transparent;\n",
              "    border-bottom-color: var(--fill-color);\n",
              "    animation:\n",
              "      spin 1s steps(1) infinite;\n",
              "  }\n",
              "\n",
              "  @keyframes spin {\n",
              "    0% {\n",
              "      border-color: transparent;\n",
              "      border-bottom-color: var(--fill-color);\n",
              "      border-left-color: var(--fill-color);\n",
              "    }\n",
              "    20% {\n",
              "      border-color: transparent;\n",
              "      border-left-color: var(--fill-color);\n",
              "      border-top-color: var(--fill-color);\n",
              "    }\n",
              "    30% {\n",
              "      border-color: transparent;\n",
              "      border-left-color: var(--fill-color);\n",
              "      border-top-color: var(--fill-color);\n",
              "      border-right-color: var(--fill-color);\n",
              "    }\n",
              "    40% {\n",
              "      border-color: transparent;\n",
              "      border-right-color: var(--fill-color);\n",
              "      border-top-color: var(--fill-color);\n",
              "    }\n",
              "    60% {\n",
              "      border-color: transparent;\n",
              "      border-right-color: var(--fill-color);\n",
              "    }\n",
              "    80% {\n",
              "      border-color: transparent;\n",
              "      border-right-color: var(--fill-color);\n",
              "      border-bottom-color: var(--fill-color);\n",
              "    }\n",
              "    90% {\n",
              "      border-color: transparent;\n",
              "      border-bottom-color: var(--fill-color);\n",
              "    }\n",
              "  }\n",
              "</style>\n",
              "\n",
              "  <script>\n",
              "    async function quickchart(key) {\n",
              "      const quickchartButtonEl =\n",
              "        document.querySelector('#' + key + ' button');\n",
              "      quickchartButtonEl.disabled = true;  // To prevent multiple clicks.\n",
              "      quickchartButtonEl.classList.add('colab-df-spinner');\n",
              "      try {\n",
              "        const charts = await google.colab.kernel.invokeFunction(\n",
              "            'suggestCharts', [key], {});\n",
              "      } catch (error) {\n",
              "        console.error('Error during call to suggestCharts:', error);\n",
              "      }\n",
              "      quickchartButtonEl.classList.remove('colab-df-spinner');\n",
              "      quickchartButtonEl.classList.add('colab-df-quickchart-complete');\n",
              "    }\n",
              "    (() => {\n",
              "      let quickchartButtonEl =\n",
              "        document.querySelector('#df-a82bb014-deb1-4dc1-982f-bb4b9e60b15d button');\n",
              "      quickchartButtonEl.style.display =\n",
              "        google.colab.kernel.accessAllowed ? 'block' : 'none';\n",
              "    })();\n",
              "  </script>\n",
              "</div>\n",
              "\n",
              "    </div>\n",
              "  </div>\n"
            ],
            "application/vnd.google.colaboratory.intrinsic+json": {
              "type": "dataframe",
              "repr_error": "0"
            }
          },
          "metadata": {},
          "execution_count": 72
        }
      ]
    },
    {
      "cell_type": "code",
      "source": [
        "df[\"TotalValue\"]"
      ],
      "metadata": {
        "colab": {
          "base_uri": "https://localhost:8080/",
          "height": 458
        },
        "id": "lLlZw52k3cOt",
        "outputId": "e0242128-3bac-4202-e78d-e93d40108e17"
      },
      "execution_count": 71,
      "outputs": [
        {
          "output_type": "execute_result",
          "data": {
            "text/plain": [
              "0       300.68\n",
              "1       300.68\n",
              "2       300.68\n",
              "3       601.36\n",
              "4       902.04\n",
              "        ...   \n",
              "995     459.86\n",
              "996    1379.58\n",
              "997    1839.44\n",
              "998     919.72\n",
              "999     459.86\n",
              "Name: TotalValue, Length: 1000, dtype: float64"
            ],
            "text/html": [
              "<div>\n",
              "<style scoped>\n",
              "    .dataframe tbody tr th:only-of-type {\n",
              "        vertical-align: middle;\n",
              "    }\n",
              "\n",
              "    .dataframe tbody tr th {\n",
              "        vertical-align: top;\n",
              "    }\n",
              "\n",
              "    .dataframe thead th {\n",
              "        text-align: right;\n",
              "    }\n",
              "</style>\n",
              "<table border=\"1\" class=\"dataframe\">\n",
              "  <thead>\n",
              "    <tr style=\"text-align: right;\">\n",
              "      <th></th>\n",
              "      <th>TotalValue</th>\n",
              "    </tr>\n",
              "  </thead>\n",
              "  <tbody>\n",
              "    <tr>\n",
              "      <th>0</th>\n",
              "      <td>300.68</td>\n",
              "    </tr>\n",
              "    <tr>\n",
              "      <th>1</th>\n",
              "      <td>300.68</td>\n",
              "    </tr>\n",
              "    <tr>\n",
              "      <th>2</th>\n",
              "      <td>300.68</td>\n",
              "    </tr>\n",
              "    <tr>\n",
              "      <th>3</th>\n",
              "      <td>601.36</td>\n",
              "    </tr>\n",
              "    <tr>\n",
              "      <th>4</th>\n",
              "      <td>902.04</td>\n",
              "    </tr>\n",
              "    <tr>\n",
              "      <th>...</th>\n",
              "      <td>...</td>\n",
              "    </tr>\n",
              "    <tr>\n",
              "      <th>995</th>\n",
              "      <td>459.86</td>\n",
              "    </tr>\n",
              "    <tr>\n",
              "      <th>996</th>\n",
              "      <td>1379.58</td>\n",
              "    </tr>\n",
              "    <tr>\n",
              "      <th>997</th>\n",
              "      <td>1839.44</td>\n",
              "    </tr>\n",
              "    <tr>\n",
              "      <th>998</th>\n",
              "      <td>919.72</td>\n",
              "    </tr>\n",
              "    <tr>\n",
              "      <th>999</th>\n",
              "      <td>459.86</td>\n",
              "    </tr>\n",
              "  </tbody>\n",
              "</table>\n",
              "<p>1000 rows × 1 columns</p>\n",
              "</div><br><label><b>dtype:</b> float64</label>"
            ]
          },
          "metadata": {},
          "execution_count": 71
        }
      ]
    },
    {
      "cell_type": "code",
      "source": [],
      "metadata": {
        "id": "Zt-zHZd_3sEd"
      },
      "execution_count": 62,
      "outputs": []
    },
    {
      "cell_type": "markdown",
      "source": [
        "# 1. Top-performing regions by revenue"
      ],
      "metadata": {
        "id": "3Hqx95Ac7BdL"
      }
    },
    {
      "cell_type": "code",
      "source": [
        "region_revenue = df.groupby(\"Region\")[\"TotalValue\"].sum().sort_values(ascending=False)\n",
        "print(\"\\nTop-performing regions by revenue:\")\n",
        "print(region_revenue)"
      ],
      "metadata": {
        "colab": {
          "base_uri": "https://localhost:8080/"
        },
        "id": "i4pUz_6Hu73x",
        "outputId": "5af9ce17-9976-4def-dde5-444c7b870b9e"
      },
      "execution_count": 73,
      "outputs": [
        {
          "output_type": "stream",
          "name": "stdout",
          "text": [
            "\n",
            "Top-performing regions by revenue:\n",
            "Region\n",
            "South America    219352.56\n",
            "Europe           166254.63\n",
            "North America    152313.40\n",
            "Asia             152074.97\n",
            "Name: TotalValue, dtype: float64\n"
          ]
        }
      ]
    },
    {
      "cell_type": "code",
      "source": [
        "plt.figure(figsize=(8, 4))\n",
        "sns.barplot(x=region_revenue.index, y=region_revenue.values, palette=\"viridis\")\n",
        "plt.title(\"Revenue by Region\")\n",
        "plt.xlabel(\"Region\")\n",
        "plt.ylabel(\"Total Revenue (USD)\")\n",
        "plt.xticks(rotation=45)\n",
        "plt.show()"
      ],
      "metadata": {
        "colab": {
          "base_uri": "https://localhost:8080/",
          "height": 587
        },
        "id": "8_VjE6j-0CUl",
        "outputId": "9aba22ca-b1ab-4d96-f1e6-64a4361886a4"
      },
      "execution_count": 35,
      "outputs": [
        {
          "output_type": "stream",
          "name": "stderr",
          "text": [
            "<ipython-input-35-8abd6d21b20c>:2: FutureWarning: \n",
            "\n",
            "Passing `palette` without assigning `hue` is deprecated and will be removed in v0.14.0. Assign the `x` variable to `hue` and set `legend=False` for the same effect.\n",
            "\n",
            "  sns.barplot(x=region_revenue.index, y=region_revenue.values, palette=\"viridis\")\n"
          ]
        },
        {
          "output_type": "display_data",
          "data": {
            "text/plain": [
              "<Figure size 800x400 with 1 Axes>"
            ],
            "image/png": "[encoded data removed]"
          },
          "metadata": {}
        }
      ]
    },
    {
      "cell_type": "markdown",
      "source": [
        "# 2. Most popular products by quantity sold"
      ],
      "metadata": {
        "id": "Irbaz--l6dDC"
      }
    },
    {
      "cell_type": "code",
      "source": [
        "popular_products = df.groupby(\"ProductName\")[\"Quantity\"].sum().sort_values(ascending=False).head(10)\n",
        "print(\"\\nMost popular products by quantity sold:\")\n",
        "print(popular_products)"
      ],
      "metadata": {
        "colab": {
          "base_uri": "https://localhost:8080/"
        },
        "id": "aH8F_8wL0N4r",
        "outputId": "90847547-99a8-4225-97d5-dff7aa89e266"
      },
      "execution_count": 36,
      "outputs": [
        {
          "output_type": "stream",
          "name": "stdout",
          "text": [
            "\n",
            "Most popular products by quantity sold:\n",
            "ProductName\n",
            "ActiveWear Smartwatch    100\n",
            "SoundWave Headphones      97\n",
            "HomeSense Desk Lamp       81\n",
            "ActiveWear Rug            79\n",
            "SoundWave Cookbook        78\n",
            "ActiveWear Jacket         76\n",
            "BookWorld Biography       71\n",
            "TechPro T-Shirt           66\n",
            "SoundWave Desk Lamp       64\n",
            "TechPro Textbook          62\n",
            "Name: Quantity, dtype: int64\n"
          ]
        }
      ]
    },
    {
      "cell_type": "code",
      "source": [
        "plt.figure(figsize=(10, 6))\n",
        "sns.barplot(y=popular_products.index, x=popular_products.values, palette=\"coolwarm\")\n",
        "plt.title(\"Top 10 Most Popular Products\")\n",
        "plt.xlabel(\"Quantity Sold\")\n",
        "plt.ylabel(\"Product Name\")\n",
        "plt.show()"
      ],
      "metadata": {
        "colab": {
          "base_uri": "https://localhost:8080/",
          "height": 673
        },
        "id": "2KtcZh8c1MZI",
        "outputId": "f3b6c681-1ae8-4199-c96c-fe76e87fbc61"
      },
      "execution_count": 37,
      "outputs": [
        {
          "output_type": "stream",
          "name": "stderr",
          "text": [
            "<ipython-input-37-2580bb358fe5>:2: FutureWarning: \n",
            "\n",
            "Passing `palette` without assigning `hue` is deprecated and will be removed in v0.14.0. Assign the `y` variable to `hue` and set `legend=False` for the same effect.\n",
            "\n",
            "  sns.barplot(y=popular_products.index, x=popular_products.values, palette=\"coolwarm\")\n"
          ]
        },
        {
          "output_type": "display_data",
          "data": {
            "text/plain": [
              "<Figure size 1000x600 with 1 Axes>"
            ],
            "image/png": "[encoded data removed]"
          },
          "metadata": {}
        }
      ]
    },
    {
      "cell_type": "markdown",
      "source": [
        "# 3. Seasonal trends in sales"
      ],
      "metadata": {
        "id": "r8eovOTu6ldI"
      }
    },
    {
      "cell_type": "code",
      "source": [
        "df[\"TransactionDate\"] = pd.to_datetime(df[\"TransactionDate\"])\n",
        "df[\"Month\"] = df[\"TransactionDate\"].dt.month\n",
        "monthly_sales = df.groupby(\"Month\")[\"TotalValue\"].sum()\n",
        "\n",
        "print(\"\\nMonthly sales trends:\")\n",
        "print(monthly_sales)"
      ],
      "metadata": {
        "colab": {
          "base_uri": "https://localhost:8080/"
        },
        "id": "-Sgg9-gX1RDW",
        "outputId": "0225c3c3-43a5-48d7-99ec-e379dc18efe3"
      },
      "execution_count": 81,
      "outputs": [
        {
          "output_type": "stream",
          "name": "stdout",
          "text": [
            "\n",
            "Monthly sales trends:\n",
            "Month\n",
            "1     66376.39\n",
            "2     51459.27\n",
            "3     47828.73\n",
            "4     57519.06\n",
            "5     64527.74\n",
            "6     48771.18\n",
            "7     71366.39\n",
            "8     63436.74\n",
            "9     70603.75\n",
            "10    47063.22\n",
            "11    38224.37\n",
            "12    62818.72\n",
            "Name: TotalValue, dtype: float64\n"
          ]
        }
      ]
    },
    {
      "cell_type": "code",
      "source": [
        "plt.figure(figsize=(10, 6))\n",
        "monthly_sales.plot(kind=\"line\", marker=\"o\", color=\"b\")\n",
        "plt.title(\"Monthly Sales Trends\")\n",
        "plt.xlabel(\"Month\")\n",
        "plt.ylabel(\"Total Revenue (USD)\")\n",
        "plt.grid()\n",
        "plt.show()"
      ],
      "metadata": {
        "colab": {
          "base_uri": "https://localhost:8080/",
          "height": 564
        },
        "id": "xGz_YPrC2HMP",
        "outputId": "b4656272-07d3-451b-e8b0-0475d0fbf9e3"
      },
      "execution_count": 40,
      "outputs": [
        {
          "output_type": "display_data",
          "data": {
            "text/plain": [
              "<Figure size 1000x600 with 1 Axes>"
            ],
            "image/png": "[encoded data removed]"
          },
          "metadata": {}
        }
      ]
    },
    {
      "cell_type": "markdown",
      "source": [
        "# 4. Customer retention analysis"
      ],
      "metadata": {
        "id": "vw5zHrH56znJ"
      }
    },
    {
      "cell_type": "code",
      "source": [
        "customer_transactions = df.groupby(\"CustomerID\")[\"TransactionID\"].count()\n",
        "repeat_customers = customer_transactions[customer_transactions > 1].count()\n",
        "total_customers = customer_transactions.count()\n",
        "repeat_rate = (repeat_customers / total_customers) * 100"
      ],
      "metadata": {
        "id": "NoeJ-imO2jWv"
      },
      "execution_count": 45,
      "outputs": []
    },
    {
      "cell_type": "code",
      "source": [
        "print(f\"\\nCustomer Retention Rate: {repeat_rate:.2f}%\")"
      ],
      "metadata": {
        "colab": {
          "base_uri": "https://localhost:8080/"
        },
        "id": "RZmDZ3sw2tk1",
        "outputId": "6a6f238c-8fa4-482c-9d63-af19b92383d1"
      },
      "execution_count": 43,
      "outputs": [
        {
          "output_type": "stream",
          "name": "stdout",
          "text": [
            "\n",
            "Customer Retention Rate: 93.97%\n"
          ]
        }
      ]
    },
    {
      "cell_type": "markdown",
      "source": [
        "# 5. Price sensitivity analysis"
      ],
      "metadata": {
        "id": "KutZ-SKR64H0"
      }
    },
    {
      "cell_type": "code",
      "source": [
        "price_quantity_correlation = df[\"Price_x\"].corr(df[\"Quantity\"])\n",
        "print(f\"\\nCorrelation between Price and Quantity Sold: {price_quantity_correlation:.2f}\")"
      ],
      "metadata": {
        "colab": {
          "base_uri": "https://localhost:8080/"
        },
        "id": "S--43L3920T2",
        "outputId": "649db5d9-5667-4219-d801-ef4f7b791c6e"
      },
      "execution_count": 80,
      "outputs": [
        {
          "output_type": "stream",
          "name": "stdout",
          "text": [
            "\n",
            "Correlation between Price and Quantity Sold: -0.01\n"
          ]
        }
      ]
    },
    {
      "cell_type": "code",
      "source": [],
      "metadata": {
        "id": "irhvVH4Z3F3f"
      },
      "execution_count": null,
      "outputs": []
    }
  ]
}